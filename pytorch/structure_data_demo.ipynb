{
 "cells": [
  {
   "cell_type": "code",
   "execution_count": 7,
   "metadata": {
    "collapsed": true
   },
   "outputs": [
    {
     "name": "stdout",
     "output_type": "stream",
     "text": [
      "2022-05-15 11:00:43\n"
     ]
    }
   ],
   "source": [
    "import os\n",
    "import datetime\n",
    "\n",
    "print(datetime.datetime.now().strftime('%Y-%m-%d %H:%M:%S'))"
   ]
  },
  {
   "cell_type": "code",
   "execution_count": 1,
   "outputs": [
    {
     "data": {
      "text/plain": "   PassengerId  Survived  Pclass                                      Name  \\\n0          493         0       1                Molson, Mr. Harry Markland   \n1           53         1       1  Harper, Mrs. Henry Sleeper (Myna Haxtun)   \n2          388         1       2                          Buss, Miss. Kate   \n3          192         0       2                     Carbines, Mr. William   \n4          687         0       3                  Panula, Mr. Jaako Arnold   \n\n      Sex   Age  SibSp  Parch    Ticket     Fare Cabin Embarked  \n0    male  55.0      0      0    113787  30.5000   C30        S  \n1  female  49.0      1      0  PC 17572  76.7292   D33        C  \n2  female  36.0      0      0     27849  13.0000   NaN        S  \n3    male  19.0      0      0     28424  13.0000   NaN        S  \n4    male  14.0      4      1   3101295  39.6875   NaN        S  ",
      "text/html": "<div>\n<style scoped>\n    .dataframe tbody tr th:only-of-type {\n        vertical-align: middle;\n    }\n\n    .dataframe tbody tr th {\n        vertical-align: top;\n    }\n\n    .dataframe thead th {\n        text-align: right;\n    }\n</style>\n<table border=\"1\" class=\"dataframe\">\n  <thead>\n    <tr style=\"text-align: right;\">\n      <th></th>\n      <th>PassengerId</th>\n      <th>Survived</th>\n      <th>Pclass</th>\n      <th>Name</th>\n      <th>Sex</th>\n      <th>Age</th>\n      <th>SibSp</th>\n      <th>Parch</th>\n      <th>Ticket</th>\n      <th>Fare</th>\n      <th>Cabin</th>\n      <th>Embarked</th>\n    </tr>\n  </thead>\n  <tbody>\n    <tr>\n      <th>0</th>\n      <td>493</td>\n      <td>0</td>\n      <td>1</td>\n      <td>Molson, Mr. Harry Markland</td>\n      <td>male</td>\n      <td>55.0</td>\n      <td>0</td>\n      <td>0</td>\n      <td>113787</td>\n      <td>30.5000</td>\n      <td>C30</td>\n      <td>S</td>\n    </tr>\n    <tr>\n      <th>1</th>\n      <td>53</td>\n      <td>1</td>\n      <td>1</td>\n      <td>Harper, Mrs. Henry Sleeper (Myna Haxtun)</td>\n      <td>female</td>\n      <td>49.0</td>\n      <td>1</td>\n      <td>0</td>\n      <td>PC 17572</td>\n      <td>76.7292</td>\n      <td>D33</td>\n      <td>C</td>\n    </tr>\n    <tr>\n      <th>2</th>\n      <td>388</td>\n      <td>1</td>\n      <td>2</td>\n      <td>Buss, Miss. Kate</td>\n      <td>female</td>\n      <td>36.0</td>\n      <td>0</td>\n      <td>0</td>\n      <td>27849</td>\n      <td>13.0000</td>\n      <td>NaN</td>\n      <td>S</td>\n    </tr>\n    <tr>\n      <th>3</th>\n      <td>192</td>\n      <td>0</td>\n      <td>2</td>\n      <td>Carbines, Mr. William</td>\n      <td>male</td>\n      <td>19.0</td>\n      <td>0</td>\n      <td>0</td>\n      <td>28424</td>\n      <td>13.0000</td>\n      <td>NaN</td>\n      <td>S</td>\n    </tr>\n    <tr>\n      <th>4</th>\n      <td>687</td>\n      <td>0</td>\n      <td>3</td>\n      <td>Panula, Mr. Jaako Arnold</td>\n      <td>male</td>\n      <td>14.0</td>\n      <td>4</td>\n      <td>1</td>\n      <td>3101295</td>\n      <td>39.6875</td>\n      <td>NaN</td>\n      <td>S</td>\n    </tr>\n  </tbody>\n</table>\n</div>"
     },
     "execution_count": 1,
     "metadata": {},
     "output_type": "execute_result"
    }
   ],
   "source": [
    "import numpy as np\n",
    "import pandas as pd\n",
    "import matplotlib.pyplot as plt\n",
    "import torch\n",
    "from torch.utils.data import DataLoader,Dataset,TensorDataset\n",
    "\n",
    "dftrain_raw = pd.read_csv('../data/titanic/train.csv')\n",
    "dftest_raw = pd.read_csv('../data/titanic/test.csv')\n",
    "dftrain_raw.head()"
   ],
   "metadata": {
    "collapsed": false,
    "pycharm": {
     "name": "#%%\n"
    }
   }
  },
  {
   "cell_type": "code",
   "execution_count": 3,
   "outputs": [
    {
     "data": {
      "text/plain": "<Figure size 864x576 with 1 Axes>",
      "image/png": "[encoded data removed]"
     },
     "metadata": {
      "needs_background": "light"
     },
     "output_type": "display_data"
    }
   ],
   "source": [
    "# 使用%matplotlib命令可以将matplotlib的图表直接嵌入到Notebook之中，或者使用指定的界面库显示图表，它有一个参数指定matplotlib图表的显示方式。inline表示将图表嵌入到Notebook中。\n",
    "%matplotlib inline\n",
    "%config InlineBackend.figure_format = 'png'\n",
    "ax = dftrain_raw['Survived'].value_counts().plot(kind = 'bar',figsize = (12,8),fontsize = 15,rot = 0)                                                   #柱状图\n",
    "ax.set_ylabel('Counts',fontsize = 15)#0，1的个数，只打印了四行\n",
    "ax.set_xlabel('Survived',fontsize = 15)\n",
    "plt.show()"
   ],
   "metadata": {
    "collapsed": false,
    "pycharm": {
     "name": "#%%\n"
    }
   }
  },
  {
   "cell_type": "code",
   "execution_count": 15,
   "outputs": [
    {
     "data": {
      "text/plain": "<Figure size 864x576 with 1 Axes>",
      "image/png": "[encoded data removed]"
     },
     "metadata": {
      "needs_background": "light"
     },
     "output_type": "display_data"
    }
   ],
   "source": [
    "%matplotlib inline\n",
    "%config InlineBackend.figure_format = 'png'\n",
    "ax = dftrain_raw['Age'].plot(kind = 'hist',bins = 20,color = 'purple',figsize = (12,8),fontsize = 15)\n",
    "ax.set_ylabel('Frequency',fontsize = 15)\n",
    "ax.set_xlabel('Age',fontsize = 15)\n",
    "\n",
    "plt.show()"
   ],
   "metadata": {
    "collapsed": false,
    "pycharm": {
     "name": "#%%\n"
    }
   }
  },
  {
   "cell_type": "code",
   "execution_count": 14,
   "outputs": [
    {
     "name": "stdout",
     "output_type": "stream",
     "text": [
      "     Pclass_1  Pclass_2  Pclass_3\n",
      "0           1         0         0\n",
      "1           1         0         0\n",
      "2           0         1         0\n",
      "3           0         1         0\n",
      "4           0         0         1\n",
      "..        ...       ...       ...\n",
      "707         0         0         1\n",
      "708         1         0         0\n",
      "709         0         0         1\n",
      "710         0         1         0\n",
      "711         1         0         0\n",
      "\n",
      "[712 rows x 3 columns]\n",
      "     Pclass_1  Pclass_2  Pclass_3\n",
      "0           1         0         0\n",
      "1           1         0         0\n",
      "2           0         1         0\n",
      "3           0         1         0\n",
      "4           0         0         1\n",
      "..        ...       ...       ...\n",
      "707         0         0         1\n",
      "708         1         0         0\n",
      "709         0         0         1\n",
      "710         0         1         0\n",
      "711         1         0         0\n",
      "\n",
      "[712 rows x 3 columns]\n"
     ]
    }
   ],
   "source": [
    "dfresult = pd.DataFrame()\n",
    "dfPclass  = pd.get_dummies(dftrain_raw['Pclass'])\n",
    "dfPclass.columns = ['Pclass_' + str(x) for x in dfPclass.columns]\n",
    "dfresult = pd.concat([dfresult,dfPclass],axis=1)\n",
    "print(dfPclass)\n",
    "print(dfresult)"
   ],
   "metadata": {
    "collapsed": false,
    "pycharm": {
     "name": "#%%\n"
    }
   }
  },
  {
   "cell_type": "code",
   "execution_count": 7,
   "outputs": [
    {
     "name": "stdout",
     "output_type": "stream",
     "text": [
      "     Pclass_1  Pclass_2  Pclass_3   Age  Age_null\n",
      "0           1         0         0  55.0         0\n",
      "1           1         0         0  49.0         0\n",
      "2           0         1         0  36.0         0\n",
      "3           0         1         0  19.0         0\n",
      "4           0         0         1  14.0         0\n",
      "..        ...       ...       ...   ...       ...\n",
      "707         0         0         1  24.0         0\n",
      "708         1         0         0   0.0         1\n",
      "709         0         0         1  45.0         0\n",
      "710         0         1         0  35.0         0\n",
      "711         1         0         0   0.0         1\n",
      "\n",
      "[712 rows x 5 columns]\n"
     ]
    }
   ],
   "source": [
    "dfresult['Age'] = dftrain_raw['Age'].fillna(0)#缺省值\n",
    "dfresult['Age_null'] = pd.isna(dftrain_raw['Age']).astype('int32')\n",
    "print(dfresult)"
   ],
   "metadata": {
    "collapsed": false,
    "pycharm": {
     "name": "#%%\n"
    }
   }
  },
  {
   "cell_type": "code",
   "execution_count": 2,
   "outputs": [
    {
     "name": "stdout",
     "output_type": "stream",
     "text": [
      "x_train.shape = (712, 15)\n",
      "x_test.shape = (179, 15)\n",
      "y_train.shape = (712, 1)\n",
      "y_test.shape = (179, 1)\n"
     ]
    }
   ],
   "source": [
    "def preprocessing(dfdata):\n",
    "\n",
    "    dfresult= pd.DataFrame()\n",
    "\n",
    "    #Pclass\n",
    "    dfPclass = pd.get_dummies(dfdata['Pclass'])\n",
    "    dfPclass.columns = ['Pclass_' +str(x) for x in dfPclass.columns ]\n",
    "    dfresult = pd.concat([dfresult,dfPclass],axis = 1)\n",
    "\n",
    "    #Sex\n",
    "    dfSex = pd.get_dummies(dfdata['Sex'])\n",
    "    dfresult = pd.concat([dfresult,dfSex],axis = 1)\n",
    "\n",
    "    #Age\n",
    "    dfresult['Age'] = dfdata['Age'].fillna(0)\n",
    "    dfresult['Age_null'] = pd.isna(dfdata['Age']).astype('int32')\n",
    "\n",
    "    #SibSp,Parch,Fare\n",
    "    dfresult['SibSp'] = dfdata['SibSp']\n",
    "    dfresult['Parch'] = dfdata['Parch']\n",
    "    dfresult['Fare'] = dfdata['Fare']\n",
    "\n",
    "    #Carbin\n",
    "    dfresult['Cabin_null'] =  pd.isna(dfdata['Cabin']).astype('int32')\n",
    "\n",
    "    #Embarked\n",
    "    dfEmbarked = pd.get_dummies(dfdata['Embarked'],dummy_na=True)\n",
    "    dfEmbarked.columns = ['Embarked_' + str(x) for x in dfEmbarked.columns]\n",
    "    dfresult = pd.concat([dfresult,dfEmbarked],axis = 1)\n",
    "\n",
    "    return(dfresult)\n",
    "\n",
    "x_train = preprocessing(dftrain_raw).values\n",
    "y_train = dftrain_raw[['Survived']].values\n",
    "\n",
    "x_test = preprocessing(dftest_raw).values\n",
    "y_test = dftest_raw[['Survived']].values\n",
    "\n",
    "print(\"x_train.shape =\", x_train.shape )\n",
    "print(\"x_test.shape =\", x_test.shape )\n",
    "\n",
    "print(\"y_train.shape =\", y_train.shape )\n",
    "print(\"y_test.shape =\", y_test.shape )"
   ],
   "metadata": {
    "collapsed": false,
    "pycharm": {
     "name": "#%%\n"
    }
   }
  },
  {
   "cell_type": "code",
   "execution_count": 3,
   "outputs": [],
   "source": [
    "dl_train = DataLoader(TensorDataset(torch.tensor(x_train).float(),torch.tensor(y_train).float()),shuffle=True,batch_size=8)\n",
    "dl_valid = DataLoader(TensorDataset(torch.tensor(x_test).float(),torch.tensor(y_test).float()),shuffle=True,batch_size=8)"
   ],
   "metadata": {
    "collapsed": false,
    "pycharm": {
     "name": "#%%\n"
    }
   }
  },
  {
   "cell_type": "code",
   "execution_count": 10,
   "outputs": [
    {
     "name": "stdout",
     "output_type": "stream",
     "text": [
      "tensor([[ 0.0000,  0.0000,  1.0000,  0.0000,  1.0000,  0.0000,  1.0000,  2.0000,\n",
      "          0.0000, 23.2500,  1.0000,  0.0000,  1.0000,  0.0000,  0.0000],\n",
      "        [ 0.0000,  1.0000,  0.0000,  1.0000,  0.0000,  8.0000,  0.0000,  0.0000,\n",
      "          2.0000, 26.2500,  1.0000,  0.0000,  0.0000,  1.0000,  0.0000],\n",
      "        [ 0.0000,  0.0000,  1.0000,  0.0000,  1.0000,  4.0000,  0.0000,  3.0000,\n",
      "          2.0000, 27.9000,  1.0000,  0.0000,  0.0000,  1.0000,  0.0000],\n",
      "        [ 0.0000,  0.0000,  1.0000,  0.0000,  1.0000, 45.5000,  0.0000,  0.0000,\n",
      "          0.0000,  7.2250,  1.0000,  1.0000,  0.0000,  0.0000,  0.0000],\n",
      "        [ 0.0000,  0.0000,  1.0000,  1.0000,  0.0000,  0.0000,  1.0000,  1.0000,\n",
      "          0.0000, 24.1500,  1.0000,  0.0000,  1.0000,  0.0000,  0.0000],\n",
      "        [ 0.0000,  0.0000,  1.0000,  0.0000,  1.0000, 10.0000,  0.0000,  3.0000,\n",
      "          2.0000, 27.9000,  1.0000,  0.0000,  0.0000,  1.0000,  0.0000],\n",
      "        [ 1.0000,  0.0000,  0.0000,  1.0000,  0.0000, 30.0000,  0.0000,  0.0000,\n",
      "          0.0000, 56.9292,  0.0000,  1.0000,  0.0000,  0.0000,  0.0000],\n",
      "        [ 0.0000,  1.0000,  0.0000,  0.0000,  1.0000, 25.0000,  0.0000,  1.0000,\n",
      "          2.0000, 41.5792,  1.0000,  1.0000,  0.0000,  0.0000,  0.0000]]) tensor([[1.],\n",
      "        [1.],\n",
      "        [0.],\n",
      "        [0.],\n",
      "        [1.],\n",
      "        [0.],\n",
      "        [1.],\n",
      "        [0.]])\n"
     ]
    }
   ],
   "source": [
    "for features,labels in dl_train:\n",
    "    print(features,labels)\n",
    "    break"
   ],
   "metadata": {
    "collapsed": false,
    "pycharm": {
     "name": "#%%\n"
    }
   }
  },
  {
   "cell_type": "code",
   "execution_count": 4,
   "outputs": [
    {
     "name": "stdout",
     "output_type": "stream",
     "text": [
      "Sequential(\n",
      "  (linear1): Linear(in_features=15, out_features=20, bias=True)\n",
      "  (relu1): ReLU()\n",
      "  (linear2): Linear(in_features=20, out_features=15, bias=True)\n",
      "  (relu2): ReLU()\n",
      "  (linear3): Linear(in_features=15, out_features=1, bias=True)\n",
      "  (sigmoid): Sigmoid()\n",
      ")\n"
     ]
    }
   ],
   "source": [
    "#使用Sequential定义模型\n",
    "import torch\n",
    "def create_net():\n",
    "    net = torch.nn.Sequential()\n",
    "    net.add_module('linear1',torch.nn.Linear(15,20))\n",
    "    net.add_module('relu1',torch.nn.ReLU())\n",
    "    net.add_module('linear2',torch.nn.Linear(20,15))\n",
    "    net.add_module('relu2',torch.nn.ReLU())\n",
    "    net.add_module('linear3',torch.nn.Linear(15,1))\n",
    "    net.add_module('sigmoid',torch.nn.Sigmoid())\n",
    "    return net\n",
    "\n",
    "mynetwork = create_net()\n",
    "print(mynetwork)"
   ],
   "metadata": {
    "collapsed": false,
    "pycharm": {
     "name": "#%%\n"
    }
   }
  },
  {
   "cell_type": "code",
   "execution_count": 19,
   "outputs": [
    {
     "name": "stdout",
     "output_type": "stream",
     "text": [
      "----------------------------------------------------------------\n",
      "        Layer (type)               Output Shape         Param #\n",
      "================================================================\n",
      "            Linear-1                   [-1, 20]             320\n",
      "              ReLU-2                   [-1, 20]               0\n",
      "            Linear-3                   [-1, 15]             315\n",
      "              ReLU-4                   [-1, 15]               0\n",
      "            Linear-5                    [-1, 1]              16\n",
      "           Sigmoid-6                    [-1, 1]               0\n",
      "================================================================\n",
      "Total params: 651\n",
      "Trainable params: 651\n",
      "Non-trainable params: 0\n",
      "----------------------------------------------------------------\n",
      "Input size (MB): 0.000057\n",
      "Forward/backward pass size (MB): 0.000549\n",
      "Params size (MB): 0.002483\n",
      "Estimated Total Size (MB): 0.003090\n",
      "----------------------------------------------------------------\n"
     ]
    }
   ],
   "source": [
    "from torchkeras import summary\n",
    "summary(mynetwork,input_shape=(15,))"
   ],
   "metadata": {
    "collapsed": false,
    "pycharm": {
     "name": "#%%\n"
    }
   }
  },
  {
   "cell_type": "code",
   "execution_count": 8,
   "outputs": [
    {
     "name": "stdout",
     "output_type": "stream",
     "text": [
      "start training...\n",
      "========================================2022-05-15 11:00:47\n",
      "[step = 30] loss: 0.689,accuracy:0.613\n",
      "[step = 60] loss: 0.649,accuracy:0.652\n",
      "\n",
      "EPOCH = 1, loss = 0.636,accuracy  = 0.654, val_loss = 0.661, val_accuracy = 0.649\n",
      "\n",
      "================================================================================2022-05-15 11:00:48\n",
      "[step = 30] loss: 0.587,accuracy:0.700\n",
      "[step = 60] loss: 0.599,accuracy:0.688\n",
      "\n",
      "EPOCH = 2, loss = 0.585,accuracy  = 0.698, val_loss = 0.517, val_accuracy = 0.730\n",
      "\n",
      "================================================================================2022-05-15 11:00:48\n",
      "[step = 30] loss: 0.547,accuracy:0.713\n",
      "[step = 60] loss: 0.543,accuracy:0.733\n",
      "\n",
      "EPOCH = 3, loss = 0.541,accuracy  = 0.737, val_loss = 0.474, val_accuracy = 0.768\n",
      "\n",
      "================================================================================2022-05-15 11:00:48\n",
      "[step = 30] loss: 0.504,accuracy:0.779\n",
      "[step = 60] loss: 0.482,accuracy:0.796\n",
      "\n",
      "EPOCH = 4, loss = 0.502,accuracy  = 0.791, val_loss = 0.520, val_accuracy = 0.721\n",
      "\n",
      "================================================================================2022-05-15 11:00:48\n",
      "[step = 30] loss: 0.491,accuracy:0.775\n",
      "[step = 60] loss: 0.499,accuracy:0.773\n",
      "\n",
      "EPOCH = 5, loss = 0.479,accuracy  = 0.784, val_loss = 0.533, val_accuracy = 0.770\n",
      "\n",
      "================================================================================2022-05-15 11:00:49\n",
      "[step = 30] loss: 0.470,accuracy:0.817\n",
      "[step = 60] loss: 0.491,accuracy:0.787\n",
      "\n",
      "EPOCH = 6, loss = 0.493,accuracy  = 0.791, val_loss = 0.460, val_accuracy = 0.784\n",
      "\n",
      "================================================================================2022-05-15 11:00:49\n",
      "[step = 30] loss: 0.492,accuracy:0.775\n",
      "[step = 60] loss: 0.450,accuracy:0.796\n",
      "\n",
      "EPOCH = 7, loss = 0.462,accuracy  = 0.799, val_loss = 0.484, val_accuracy = 0.795\n",
      "\n",
      "================================================================================2022-05-15 11:00:49\n",
      "[step = 30] loss: 0.423,accuracy:0.829\n",
      "[step = 60] loss: 0.453,accuracy:0.804\n",
      "\n",
      "EPOCH = 8, loss = 0.464,accuracy  = 0.799, val_loss = 0.430, val_accuracy = 0.793\n",
      "\n",
      "================================================================================2022-05-15 11:00:49\n",
      "[step = 30] loss: 0.442,accuracy:0.825\n",
      "[step = 60] loss: 0.458,accuracy:0.802\n",
      "\n",
      "EPOCH = 9, loss = 0.453,accuracy  = 0.805, val_loss = 0.435, val_accuracy = 0.801\n",
      "\n",
      "================================================================================2022-05-15 11:00:49\n",
      "[step = 30] loss: 0.487,accuracy:0.787\n",
      "[step = 60] loss: 0.453,accuracy:0.804\n",
      "\n",
      "EPOCH = 10, loss = 0.447,accuracy  = 0.802, val_loss = 0.440, val_accuracy = 0.790\n",
      "\n",
      "================================================================================2022-05-15 11:00:49\n",
      "Finished Training...\n"
     ]
    }
   ],
   "source": [
    "#脚本风格训练\n",
    "from torch import  nn\n",
    "from sklearn.metrics import accuracy_score\n",
    "loss_func = nn.BCELoss()\n",
    "optimizer = torch.optim.Adam(params=mynetwork.parameters(),lr = 0.01)\n",
    "metric_func = lambda y_pred,y_true: accuracy_score(y_true.data.numpy(),y_pred.data.numpy() > 0.5)\n",
    "metric_name = 'accuracy'\n",
    "\n",
    "epochs = 10\n",
    "log_step_freq = 30\n",
    "\n",
    "dfhistory = pd.DataFrame(columns=['epoch','loss',metric_name,'val_loss','val_'+metric_name])\n",
    "print('start training...')\n",
    "nowtime = datetime.datetime.now().strftime('%Y-%m-%d %H:%M:%S')\n",
    "print('========'*5+'%s'%nowtime)\n",
    "\n",
    "for epoch in range(1,epochs+1):\n",
    "    mynetwork.train()\n",
    "    loss_sum = 0\n",
    "    metric_sum = 0.0\n",
    "    step = 1\n",
    "\n",
    "    for step, (features,labels) in enumerate(dl_train,1):\n",
    "        optimizer.zero_grad()\n",
    "\n",
    "        predictions = mynetwork(features)\n",
    "        loss = loss_func(predictions,labels)\n",
    "        metric = metric_func(predictions,labels)\n",
    "\n",
    "        loss.backward()\n",
    "        optimizer.step()#单次优化\n",
    "\n",
    "        loss_sum += loss.item()\n",
    "        metric_sum += metric.item()\n",
    "        if step% log_step_freq == 0:\n",
    "            print(('[step = %d] loss: %.3f,'+metric_name+':%.3f')%(step,loss_sum/step,metric_sum/step))\n",
    "\n",
    "\n",
    "    mynetwork.eval()\n",
    "    val_loss_sum = 0.0\n",
    "    val_metric_sum = 0.0\n",
    "    val_step = 1\n",
    "\n",
    "    for val_step,(features,labels) in enumerate(dl_valid,1):\n",
    "        with torch.no_grad():\n",
    "            predictions = mynetwork(features)\n",
    "            val_loss = loss_func(predictions,labels)\n",
    "            val_metric = metric_func(predictions,labels)\n",
    "        val_loss_sum += val_loss.item()\n",
    "        val_metric_sum += val_metric.item()\n",
    "\n",
    "    info = (epoch,loss_sum/step,metric_sum/step,val_loss_sum/val_step,val_metric_sum/val_step)\n",
    "    dfhistory.loc[epoch - 1] = info\n",
    "\n",
    "    print((\"\\nEPOCH = %d, loss = %.3f,\"+ metric_name + \\\n",
    "          \"  = %.3f, val_loss = %.3f, \"+\"val_\"+ metric_name+\" = %.3f\")\n",
    "          %info)\n",
    "\n",
    "    nowtime = datetime.datetime.now().strftime('%Y-%m-%d %H:%M:%S')\n",
    "    print(\"\\n\"+\"==========\"*8 + \"%s\"%nowtime)\n",
    "\n",
    "print('Finished Training...')"
   ],
   "metadata": {
    "collapsed": false,
    "pycharm": {
     "name": "#%%\n"
    }
   }
  },
  {
   "cell_type": "code",
   "execution_count": null,
   "outputs": [],
   "source": [],
   "metadata": {
    "collapsed": false,
    "pycharm": {
     "name": "#%%\n"
    }
   }
  }
 ],
 "metadata": {
  "kernelspec": {
   "display_name": "Python 3",
   "language": "python",
   "name": "python3"
  },
  "language_info": {
   "codemirror_mode": {
    "name": "ipython",
    "version": 2
   },
   "file_extension": ".py",
   "mimetype": "text/x-python",
   "name": "python",
   "nbconvert_exporter": "python",
   "pygments_lexer": "ipython2",
   "version": "2.7.6"
  }
 },
 "nbformat": 4,
 "nbformat_minor": 0
}