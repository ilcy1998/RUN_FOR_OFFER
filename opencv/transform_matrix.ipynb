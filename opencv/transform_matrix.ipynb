{
 "cells": [
  {
   "cell_type": "code",
   "execution_count": 1,
   "metadata": {
    "collapsed": true
   },
   "outputs": [],
   "source": [
    "import cv2\n",
    "\n",
    "img = cv2.imread('F:\\\\cqy_smile_dataset\\\\zen_yang.jpg')\n",
    "#获取变换矩阵\n",
    "#以（100，100）为中心逆时针旋转15度，1表示不缩放\n",
    "M = cv2.getRotationMatrix2D((100,100),15,1)\n",
    "\n",
    "h,w,ch = img.shape\n",
    "\n",
    "img_ = cv2.warpAffine(img,M,dsize=(w,h))\n",
    "\n",
    "cv2.imshow('img_',img_)\n",
    "cv2.waitKey(0)\n",
    "cv2.destroyAllWindows()"
   ]
  },
  {
   "cell_type": "code",
   "execution_count": 2,
   "outputs": [],
   "source": [
    "M1 = cv2.getRotationMatrix2D((w/2,h/2),45,1)\n",
    "img_1 = cv2.warpAffine(img,M1,dsize=(w,h))\n",
    "cv2.imshow('img_1',img_1)\n",
    "cv2.waitKey(0)\n",
    "cv2.destroyAllWindows()"
   ],
   "metadata": {
    "collapsed": false,
    "pycharm": {
     "name": "#%%\n"
    }
   }
  },
  {
   "cell_type": "code",
   "execution_count": null,
   "outputs": [],
   "source": [],
   "metadata": {
    "collapsed": false,
    "pycharm": {
     "name": "#%%\n"
    }
   }
  }
 ],
 "metadata": {
  "kernelspec": {
   "display_name": "Python 3",
   "language": "python",
   "name": "python3"
  },
  "language_info": {
   "codemirror_mode": {
    "name": "ipython",
    "version": 2
   },
   "file_extension": ".py",
   "mimetype": "text/x-python",
   "name": "python",
   "nbconvert_exporter": "python",
   "pygments_lexer": "ipython2",
   "version": "2.7.6"
  }
 },
 "nbformat": 4,
 "nbformat_minor": 0
}