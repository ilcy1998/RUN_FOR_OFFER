{
 "cells": [
  {
   "cell_type": "code",
   "execution_count": 1,
   "metadata": {
    "collapsed": true
   },
   "outputs": [],
   "source": [
    "import cv2\n",
    "import numpy as np\n",
    "img1 = cv2.imread('F:\\\\cqy_smile_dataset\\\\zen_yang.jpg')\n",
    "\n",
    "#flipCode = 0，表示上下翻转\n",
    "        #>0,表示左右翻转\n",
    "        #《0，表示上下左右翻转\n",
    "\n",
    "img1_ = cv2.flip(img1,0)\n",
    "\n",
    "cv2.imshow('img',np.hstack((img1,img1_)))\n",
    "\n",
    "cv2.waitKey(0)\n",
    "cv2.destroyAllWindows()"
   ]
  }
 ],
 "metadata": {
  "kernelspec": {
   "display_name": "Python 3",
   "language": "python",
   "name": "python3"
  },
  "language_info": {
   "codemirror_mode": {
    "name": "ipython",
    "version": 2
   },
   "file_extension": ".py",
   "mimetype": "text/x-python",
   "name": "python",
   "nbconvert_exporter": "python",
   "pygments_lexer": "ipython2",
   "version": "2.7.6"
  }
 },
 "nbformat": 4,
 "nbformat_minor": 0
}