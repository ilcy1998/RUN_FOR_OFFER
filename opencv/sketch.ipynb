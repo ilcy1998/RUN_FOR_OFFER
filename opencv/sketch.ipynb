{
 "cells": [
  {
   "cell_type": "code",
   "execution_count": 4,
   "metadata": {
    "collapsed": true
   },
   "outputs": [],
   "source": [
    "import cv2\n",
    "\n",
    "# img = cv2.imread('F:\\\\cqy_smile_dataset\\\\xiao_rong_zhu_jian_can_lan.jpg')\n",
    "# img = cv2.imread('C:\\\\Users\\\\lichenyang\\\\Desktop\\\\EA9D7E9727C3ACB43AF6CC0B68E94579.png')\n",
    "img = cv2.imread(\"C:\\\\Users\\\\lichenyang\\\\Desktop\\\\IMG_0983.JPG\")\n",
    "# img = cv2.imread(\"C:\\\\Users\\\\lichenyang\\\\Desktop\\\\20220508164339.jpg\")\n",
    "# img = cv2.imread(\"C:\\\\Users\\\\lichenyang\\\\Desktop\\\\A891C24F7208E918ABAF935E144CD5EF.png\")\n",
    "# img = cv2.imread(\"C:\\\\Users\\\\lichenyang\\\\Desktop\\\\20160220132041_SaXwJ.jpeg\")\n",
    "gray = cv2.cvtColor(img, cv2.COLOR_BGR2GRAY)\n",
    "inv = 255 - gray\n",
    "blur = cv2.GaussianBlur(inv, ksize=(25, 25), sigmaX=100, sigmaY=100)\n",
    "res = cv2.divide(gray, 255 - blur, scale=255)\n",
    "img3 = cv2.resize(res,(2000,3000),interpolation=cv2.INTER_NEAREST)\n",
    "cv2.imwrite('C:\\\\Users\\\\lichenyang\\\\Desktop\\\\three.jpg',img3)\n",
    "cv2.imshow('ok',img3)\n",
    "cv2.waitKey(0)\n",
    "cv2.destroyAllWindows()"
   ]
  },
  {
   "cell_type": "code",
   "execution_count": 2,
   "outputs": [],
   "source": [],
   "metadata": {
    "collapsed": false,
    "pycharm": {
     "name": "#%%\n"
    }
   }
  },
  {
   "cell_type": "code",
   "execution_count": null,
   "outputs": [],
   "source": [],
   "metadata": {
    "collapsed": false,
    "pycharm": {
     "name": "#%%\n"
    }
   }
  }
 ],
 "metadata": {
  "kernelspec": {
   "display_name": "Python 3",
   "language": "python",
   "name": "python3"
  },
  "language_info": {
   "codemirror_mode": {
    "name": "ipython",
    "version": 2
   },
   "file_extension": ".py",
   "mimetype": "text/x-python",
   "name": "python",
   "nbconvert_exporter": "python",
   "pygments_lexer": "ipython2",
   "version": "2.7.6"
  }
 },
 "nbformat": 4,
 "nbformat_minor": 0
}