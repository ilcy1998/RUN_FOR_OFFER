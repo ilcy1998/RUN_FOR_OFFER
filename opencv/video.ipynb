{
 "cells": [
  {
   "cell_type": "code",
   "execution_count": 2,
   "metadata": {
    "collapsed": true
   },
   "outputs": [],
   "source": [
    "import cv2\n",
    "cv2.namedWindow('video',cv2.WINDOW_NORMAL)\n",
    "cv2.resizeWindow('video',640,480)\n",
    "cap = cv2.VideoCapture(0)\n",
    "#循环读取摄像头每一帧\n",
    "while True:\n",
    "    #读一帧数据，返回标记和这一帧数据，True读到，False没读到\n",
    "    result,frame = cap.read()\n",
    "    if not result:\n",
    "        break\n",
    "    cv2.imshow('video',frame)\n",
    "    key = cv2.waitKey(0)# 1000 // 30 一秒30张图片 每张图片间隔1000 // 30毫秒\n",
    "    if key == ord('q'):\n",
    "        break\n",
    "#释放资源\n",
    "cap.release()\n",
    "cv2.destroyAllWindows()"
   ]
  },
  {
   "cell_type": "code",
   "execution_count": 3,
   "outputs": [],
   "source": [
    "#视频录制"
   ],
   "metadata": {
    "collapsed": false,
    "pycharm": {
     "name": "#%%\n"
    }
   }
  },
  {
   "cell_type": "code",
   "execution_count": 5,
   "outputs": [],
   "source": [
    "cap = cv2.VideoCapture(0)\n",
    "fourcc = cv2.VideoWriter_fourcc(*'mp4v')\n",
    "vw = cv2.VideoWriter('../img/opencv/output.mp4',fourcc,30,(640,480))\n",
    "\n",
    "while cap.isOpened():\n",
    "    result,frame = cap.read()\n",
    "    if not result:\n",
    "        print('can not receive frame,Exit!')\n",
    "        break\n",
    "    vw.write(frame)\n",
    "    cv2.imshow('frame',frame)\n",
    "\n",
    "    if cv2.waitKey(1) == ord('q'):\n",
    "        break\n",
    "cap.release()\n",
    "\n",
    "vw.release()\n",
    "\n",
    "cv2.destroyAllWindows()"
   ],
   "metadata": {
    "collapsed": false,
    "pycharm": {
     "name": "#%%\n"
    }
   }
  },
  {
   "cell_type": "code",
   "execution_count": null,
   "outputs": [],
   "source": [],
   "metadata": {
    "collapsed": false,
    "pycharm": {
     "name": "#%%\n"
    }
   }
  }
 ],
 "metadata": {
  "kernelspec": {
   "display_name": "Python 3",
   "language": "python",
   "name": "python3"
  },
  "language_info": {
   "codemirror_mode": {
    "name": "ipython",
    "version": 2
   },
   "file_extension": ".py",
   "mimetype": "text/x-python",
   "name": "python",
   "nbconvert_exporter": "python",
   "pygments_lexer": "ipython2",
   "version": "2.7.6"
  }
 },
 "nbformat": 4,
 "nbformat_minor": 0
}