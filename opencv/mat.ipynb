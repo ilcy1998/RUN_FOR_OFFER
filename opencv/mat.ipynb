{
 "cells": [
  {
   "cell_type": "code",
   "execution_count": 1,
   "metadata": {
    "collapsed": true
   },
   "outputs": [],
   "source": [
    "#opencv中用mat这种数据结构表示图片\n",
    "#C++用mat来保存图片，python吧mat转化为ndarray\n",
    "import cv2\n",
    "\n",
    "img = cv2.imread('F:\\\\cqy_smile_dataset\\\\xiao_rong_zhu_jian_can_lan.jpg')\n",
    "#浅拷贝\n",
    "img2 = img.view()\n",
    "\n",
    "#深拷贝\n",
    "img3 = img.copy()\n",
    "\n",
    "img[10:100,10:100] = [0,0,255]\n",
    "\n",
    "while True:\n",
    "    cv2.imshow('img',img)\n",
    "    cv2.imshow('img2',img2)\n",
    "    cv2.imshow('img3',img3)\n",
    "\n",
    "    key = cv2.waitKey(1)\n",
    "    if key == ord('q'):\n",
    "        break\n",
    "\n",
    "cv2.destroyAllWindows()"
   ]
  },
  {
   "cell_type": "code",
   "execution_count": null,
   "outputs": [],
   "source": [],
   "metadata": {
    "collapsed": false,
    "pycharm": {
     "name": "#%%\n"
    }
   }
  }
 ],
 "metadata": {
  "kernelspec": {
   "display_name": "Python 3",
   "language": "python",
   "name": "python3"
  },
  "language_info": {
   "codemirror_mode": {
    "name": "ipython",
    "version": 2
   },
   "file_extension": ".py",
   "mimetype": "text/x-python",
   "name": "python",
   "nbconvert_exporter": "python",
   "pygments_lexer": "ipython2",
   "version": "2.7.6"
  }
 },
 "nbformat": 4,
 "nbformat_minor": 0
}