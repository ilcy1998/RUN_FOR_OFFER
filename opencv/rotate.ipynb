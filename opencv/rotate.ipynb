{
 "cells": [
  {
   "cell_type": "code",
   "execution_count": 2,
   "metadata": {
    "collapsed": true
   },
   "outputs": [],
   "source": [
    "import cv2\n",
    "import numpy as np\n",
    "img1 = cv2.imread('F:\\\\cqy_smile_dataset\\\\zen_yang.jpg')\n",
    "\n",
    "#ROTATE_90_CLOCKWISE  90度顺时针\n",
    "        #ROTATE_180 180度\n",
    "        #ROTATE——90——COUNTERCLOCKWISE 90度逆时针\n",
    "\n",
    "img1_ = cv2.rotate(img1,rotateCode=cv2.ROTATE_90_CLOCKWISE)\n",
    "\n",
    "cv2.imshow('img',img1)\n",
    "cv2.imshow('img_',img1_)\n",
    "\n",
    "cv2.waitKey(0)\n",
    "cv2.destroyAllWindows()"
   ]
  },
  {
   "cell_type": "code",
   "execution_count": null,
   "outputs": [],
   "source": [],
   "metadata": {
    "collapsed": false,
    "pycharm": {
     "name": "#%%\n"
    }
   }
  }
 ],
 "metadata": {
  "kernelspec": {
   "display_name": "Python 3",
   "language": "python",
   "name": "python3"
  },
  "language_info": {
   "codemirror_mode": {
    "name": "ipython",
    "version": 2
   },
   "file_extension": ".py",
   "mimetype": "text/x-python",
   "name": "python",
   "nbconvert_exporter": "python",
   "pygments_lexer": "ipython2",
   "version": "2.7.6"
  }
 },
 "nbformat": 4,
 "nbformat_minor": 0
}