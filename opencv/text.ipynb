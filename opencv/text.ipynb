{
 "cells": [
  {
   "cell_type": "code",
   "execution_count": 5,
   "metadata": {
    "collapsed": true
   },
   "outputs": [],
   "source": [
    "import cv2\n",
    "import numpy as np\n",
    "\n",
    "img = np.zeros((480,640,3))\n",
    "#图片/内容（无法绘制中文）/坐标/字体/大小/颜色\n",
    "cv2.putText(img,'hello',(200,100),cv2.FONT_HERSHEY_SIMPLEX,3,[255,255,255])\n",
    "cv2.imshow('img',img)\n",
    "cv2.waitKey(0)\n",
    "cv2.destroyAllWindows()"
   ]
  },
  {
   "cell_type": "code",
   "execution_count": 8,
   "outputs": [],
   "source": [
    "from PIL import Image,ImageDraw,ImageFont\n",
    "\n",
    "img = np.full((200,200,3),fill_value=255,dtype= np.uint8)\n",
    "#导入字体文件\n",
    "font = ImageFont.truetype('./msyhbd.ttc',15)\n",
    "\n",
    "#创建一个图片\n",
    "imf_pil = Image.fromarray(img)\n",
    "\n",
    "draw = ImageDraw.Draw(imf_pil)\n",
    "#绘制中文\n",
    "draw.text((10,15),'你好',font=font,fill=(0,255,0,0))\n",
    "\n",
    "img_ = np.array(imf_pil)\n",
    "\n",
    "cv2.imshow('img',img_)\n",
    "cv2.waitKey(0)\n",
    "cv2.destroyAllWindows()"
   ],
   "metadata": {
    "collapsed": false,
    "pycharm": {
     "name": "#%%\n"
    }
   }
  },
  {
   "cell_type": "code",
   "execution_count": null,
   "outputs": [],
   "source": [],
   "metadata": {
    "collapsed": false,
    "pycharm": {
     "name": "#%%\n"
    }
   }
  }
 ],
 "metadata": {
  "kernelspec": {
   "display_name": "Python 3",
   "language": "python",
   "name": "python3"
  },
  "language_info": {
   "codemirror_mode": {
    "name": "ipython",
    "version": 2
   },
   "file_extension": ".py",
   "mimetype": "text/x-python",
   "name": "python",
   "nbconvert_exporter": "python",
   "pygments_lexer": "ipython2",
   "version": "2.7.6"
  }
 },
 "nbformat": 4,
 "nbformat_minor": 0
}