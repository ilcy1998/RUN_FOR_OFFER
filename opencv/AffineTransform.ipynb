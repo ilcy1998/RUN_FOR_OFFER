{
 "cells": [
  {
   "cell_type": "code",
   "execution_count": 2,
   "metadata": {
    "collapsed": true
   },
   "outputs": [],
   "source": [
    "import cv2\n",
    "\n",
    "import numpy as np\n",
    "\n",
    "img = cv2.imread('F:\\\\cqy_smile_dataset\\\\zen_yang.jpg')\n",
    "\n",
    "h,w,ch = img.shape\n",
    "\n",
    "#需要原始图片三个点，和变换之后对应的三个坐标\n",
    "src = np.float32([[200,200],[100,400],[300,900]])\n",
    "dst = np.float32([[100,500],[400,200],[200,300]])\n",
    "M = cv2.getAffineTransform(src,dst)\n",
    "\n",
    "img_ = cv2.warpAffine(img,M,(w,h))\n",
    "\n",
    "cv2.imshow('img_',img_)\n",
    "cv2.waitKey(0)\n",
    "cv2.destroyAllWindows()"
   ]
  },
  {
   "cell_type": "code",
   "execution_count": null,
   "outputs": [],
   "source": [],
   "metadata": {
    "collapsed": false,
    "pycharm": {
     "name": "#%%\n"
    }
   }
  }
 ],
 "metadata": {
  "kernelspec": {
   "display_name": "Python 3",
   "language": "python",
   "name": "python3"
  },
  "language_info": {
   "codemirror_mode": {
    "name": "ipython",
    "version": 2
   },
   "file_extension": ".py",
   "mimetype": "text/x-python",
   "name": "python",
   "nbconvert_exporter": "python",
   "pygments_lexer": "ipython2",
   "version": "2.7.6"
  }
 },
 "nbformat": 4,
 "nbformat_minor": 0
}