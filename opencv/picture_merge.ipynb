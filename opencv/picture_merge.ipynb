{
 "cells": [
  {
   "cell_type": "code",
   "execution_count": 1,
   "metadata": {
    "collapsed": true
   },
   "outputs": [
    {
     "name": "stdout",
     "output_type": "stream",
     "text": [
      "(1599, 1170, 3)\n",
      "(1673, 1170, 3)\n"
     ]
    }
   ],
   "source": [
    "#图像融合 对图像做线性运算 new_img = img1 * w1 + img2 * w2 + bias\n",
    "import cv2\n",
    "\n",
    "img1 = cv2.imread('F:\\\\cqy_smile_dataset\\\\zen_yang.jpg')\n",
    "img2 = cv2.imread(\"F:\\\\cqy_smile_dataset\\\\xiao_si.jpg\")\n",
    "\n",
    "print(img1.shape)\n",
    "print(img2.shape)"
   ]
  },
  {
   "cell_type": "code",
   "execution_count": 2,
   "outputs": [
    {
     "name": "stdout",
     "output_type": "stream",
     "text": [
      "(1599, 1170, 3)\n"
     ]
    }
   ],
   "source": [
    "new_img2 = img2[:1599,:]\n",
    "print(new_img2.shape)"
   ],
   "metadata": {
    "collapsed": false,
    "pycharm": {
     "name": "#%%\n"
    }
   }
  },
  {
   "cell_type": "code",
   "execution_count": 4,
   "outputs": [],
   "source": [
    "new_img = cv2.addWeighted(img1,0.3,new_img2,0.7,-100)\n",
    "cv2.imshow('new',new_img)\n",
    "cv2.waitKey(0)\n",
    "cv2.destroyAllWindows()"
   ],
   "metadata": {
    "collapsed": false,
    "pycharm": {
     "name": "#%%\n"
    }
   }
  },
  {
   "cell_type": "code",
   "execution_count": null,
   "outputs": [],
   "source": [],
   "metadata": {
    "collapsed": false,
    "pycharm": {
     "name": "#%%\n"
    }
   }
  }
 ],
 "metadata": {
  "kernelspec": {
   "display_name": "Python 3",
   "language": "python",
   "name": "python3"
  },
  "language_info": {
   "codemirror_mode": {
    "name": "ipython",
    "version": 2
   },
   "file_extension": ".py",
   "mimetype": "text/x-python",
   "name": "python",
   "nbconvert_exporter": "python",
   "pygments_lexer": "ipython2",
   "version": "2.7.6"
  }
 },
 "nbformat": 4,
 "nbformat_minor": 0
}