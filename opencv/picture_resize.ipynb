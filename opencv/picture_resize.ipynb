{
 "cells": [
  {
   "cell_type": "code",
   "execution_count": 1,
   "metadata": {
    "collapsed": true
   },
   "outputs": [
    {
     "name": "stdout",
     "output_type": "stream",
     "text": [
      "(1599, 1170, 3)\n",
      "(1673, 1170, 3)\n"
     ]
    }
   ],
   "source": [
    "import cv2\n",
    "\n",
    "img1 = cv2.imread('F:\\\\cqy_smile_dataset\\\\zen_yang.jpg')\n",
    "img2 = cv2.imread(\"F:\\\\cqy_smile_dataset\\\\xiao_si.jpg\")\n",
    "\n",
    "print(img1.shape)\n",
    "print(img2.shape)"
   ]
  },
  {
   "cell_type": "code",
   "execution_count": 6,
   "outputs": [
    {
     "name": "stdout",
     "output_type": "stream",
     "text": [
      "(1599, 1170, 3)\n"
     ]
    }
   ],
   "source": [
    "img2_ = cv2.resize(img2,(1170,1599))\n",
    "print(img2_.shape)"
   ],
   "metadata": {
    "collapsed": false,
    "pycharm": {
     "name": "#%%\n"
    }
   }
  },
  {
   "cell_type": "code",
   "execution_count": 7,
   "outputs": [],
   "source": [
    "import numpy as np\n",
    "\n",
    "cv2.imshow('merge',np.hstack((img2_,img1)))\n",
    "cv2.waitKey(0)\n",
    "cv2.destroyAllWindows()"
   ],
   "metadata": {
    "collapsed": false,
    "pycharm": {
     "name": "#%%\n"
    }
   }
  },
  {
   "cell_type": "code",
   "execution_count": 8,
   "outputs": [],
   "source": [
    "img1_ = cv2.resize(img1,(800,500))\n",
    "cv2.imshow('img1_',img1_)\n",
    "cv2.waitKey(0)\n",
    "cv2.destroyAllWindows()"
   ],
   "metadata": {
    "collapsed": false,
    "pycharm": {
     "name": "#%%\n"
    }
   }
  },
  {
   "cell_type": "code",
   "execution_count": 10,
   "outputs": [],
   "source": [
    "img3 = cv2.resize(img2,(800,500),interpolation=cv2.INTER_NEAREST)\n",
    "img4 = cv2.resize(img2,(800,500),interpolation=cv2.INTER_LINEAR)\n",
    "img5 = cv2.resize(img2,(800,500),interpolation=cv2.INTER_CUBIC)\n",
    "img6 = cv2.resize(img2,(800,500),interpolation=cv2.INTER_AREA)\n",
    "\n",
    "cv2.imshow('img3',img3)\n",
    "cv2.imshow('img4',img4)\n",
    "cv2.imshow('img5',img5)\n",
    "cv2.imshow('img6',img6)\n",
    "\n",
    "cv2.waitKey(0)\n",
    "cv2.destroyAllWindows()"
   ],
   "metadata": {
    "collapsed": false,
    "pycharm": {
     "name": "#%%\n"
    }
   }
  },
  {
   "cell_type": "code",
   "execution_count": null,
   "outputs": [],
   "source": [],
   "metadata": {
    "collapsed": false,
    "pycharm": {
     "name": "#%%\n"
    }
   }
  }
 ],
 "metadata": {
  "kernelspec": {
   "display_name": "Python 3",
   "language": "python",
   "name": "python3"
  },
  "language_info": {
   "codemirror_mode": {
    "name": "ipython",
    "version": 2
   },
   "file_extension": ".py",
   "mimetype": "text/x-python",
   "name": "python",
   "nbconvert_exporter": "python",
   "pygments_lexer": "ipython2",
   "version": "2.7.6"
  }
 },
 "nbformat": 4,
 "nbformat_minor": 0
}