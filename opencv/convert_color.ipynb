{
 "cells": [
  {
   "cell_type": "code",
   "execution_count": 2,
   "metadata": {
    "collapsed": true
   },
   "outputs": [],
   "source": [
    "import cv2\n",
    "\n",
    "def callback(value):\n",
    "    pass\n",
    "\n",
    "cv2.namedWindow('color',cv2.WINDOW_NORMAL)\n",
    "cv2.resizeWindow('color',480,540)\n",
    "\n",
    "colorspace = [\n",
    "    cv2.COLOR_BGR2HLS,cv2.COLOR_BGR2BGRA,cv2.COLOR_BGR2GRAY\n",
    "]\n",
    "\n",
    "cv2.createTrackbar('trackbar','color',0,4,callback)\n",
    "\n",
    "img = cv2.imread('F:\\\\cqy_smile_dataset\\\\xiao_rong_zhu_jian_can_lan.jpg')\n",
    "\n",
    "while True:\n",
    "    index = cv2.getTrackbarPos('trackbar','color')\n",
    "    cvt_img = cv2.cvtColor(img,colorspace[index])\n",
    "\n",
    "    cv2.imshow('color',cvt_img)\n",
    "\n",
    "    key = cv2.waitKey(10)\n",
    "    if key  == ord('q'):\n",
    "        break\n",
    "\n",
    "cv2.destroyAllWindows()"
   ]
  },
  {
   "cell_type": "code",
   "execution_count": null,
   "outputs": [],
   "source": [],
   "metadata": {
    "collapsed": false,
    "pycharm": {
     "name": "#%%\n"
    }
   }
  }
 ],
 "metadata": {
  "kernelspec": {
   "display_name": "Python 3",
   "language": "python",
   "name": "python3"
  },
  "language_info": {
   "codemirror_mode": {
    "name": "ipython",
    "version": 2
   },
   "file_extension": ".py",
   "mimetype": "text/x-python",
   "name": "python",
   "nbconvert_exporter": "python",
   "pygments_lexer": "ipython2",
   "version": "2.7.6"
  }
 },
 "nbformat": 4,
 "nbformat_minor": 0
}