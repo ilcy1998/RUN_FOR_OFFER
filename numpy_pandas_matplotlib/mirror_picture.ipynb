{
 "cells": [
  {
   "cell_type": "code",
   "execution_count": 2,
   "metadata": {
    "collapsed": true
   },
   "outputs": [],
   "source": [
    "import numpy as np\n",
    "import cv2\n",
    "\n",
    "\n",
    "img = cv2.imread(\"C:\\\\Users\\\\lichenyang\\\\Desktop\\\\084db84a-24d8-4eb9-828c-f2a0e85ce836_720_.jpg\")\n",
    "img2 = cv2.cvtColor(img,cv2.COLOR_BGR2RGB)\n",
    "def mirror():\n",
    "    mirror = np.fliplr(img2)\n",
    "    return mirror\n",
    "cv2.imshow('img',mirror())\n",
    "cv2.imwrite('C:\\\\Users\\\\lichenyang\\\\Desktop\\\\shoot.jpg',mirror())\n",
    "cv2.waitKey(0)\n",
    "cv2.destroyAllWindows()"
   ]
  },
  {
   "cell_type": "code",
   "execution_count": null,
   "outputs": [],
   "source": [],
   "metadata": {
    "collapsed": false,
    "pycharm": {
     "name": "#%%\n"
    }
   }
  }
 ],
 "metadata": {
  "kernelspec": {
   "display_name": "Python 3",
   "language": "python",
   "name": "python3"
  },
  "language_info": {
   "codemirror_mode": {
    "name": "ipython",
    "version": 2
   },
   "file_extension": ".py",
   "mimetype": "text/x-python",
   "name": "python",
   "nbconvert_exporter": "python",
   "pygments_lexer": "ipython2",
   "version": "2.7.6"
  }
 },
 "nbformat": 4,
 "nbformat_minor": 0
}